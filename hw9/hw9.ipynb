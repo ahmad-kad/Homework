{
 "cells": [
  {
   "cell_type": "markdown",
   "metadata": {},
   "source": [
    "### Homework 9\n",
    "\n",
    "Here's another algorithmic problem to solve:\n",
    "\n",
    "Given a binary search tree (BST), find the lowest common ancestor (LCA) node of two given nodes in the BST.\n",
    "\n",
    "The lowest common ancestor is defined between two nodes p and q as the lowest node in T that has both p and q as descendants (where we allow a node to be a descendant of itself).\n",
    "\n",
    "\n"
   ]
  },
  {
   "cell_type": "markdown",
   "metadata": {},
   "source": [
    "Constraints:\n",
    "\n",
    "    The number of nodes in the tree is in the range [2, 105].\n",
    "    -109 <= Node.val <= 109\n",
    "    All values are unique.\n",
    "    p != q\n",
    "    p and q will exist in the BST."
   ]
  },
  {
   "cell_type": "code",
   "execution_count": null,
   "metadata": {
    "vscode": {
     "languageId": "javascript"
    }
   },
   "outputs": [],
   "source": [
    "Function definition for Java: \n",
    "\n",
    "    public TreeNode lowestCommonAncestor(TreeNode root, TreeNode p, TreeNode q) {\n",
    "\n",
    "       //your code here\n",
    "\n",
    "    }\n",
    "\n"
   ]
  },
  {
   "cell_type": "markdown",
   "metadata": {},
   "source": [
    "### Function definition for Python:"
   ]
  },
  {
   "cell_type": "code",
   "execution_count": 28,
   "metadata": {},
   "outputs": [
    {
     "name": "stdout",
     "output_type": "stream",
     "text": [
      "Lowest Common Ancestor: 3\n"
     ]
    }
   ],
   "source": [
    "class TreeNode:\n",
    "    def __init__(self, val=0, left=None, right=None):\n",
    "        self.val = val\n",
    "        self.left = left\n",
    "        self.right = right\n",
    "\n",
    "#Traversal\n",
    "def find_node(root: 'TreeNode', p_val: int) -> 'TreeNode':\n",
    "    current = root\n",
    "    while current:\n",
    "        if current.val == p_val:\n",
    "            return current\n",
    "        elif p_val < current.val:\n",
    "            current = current.left\n",
    "        else:\n",
    "            current = current.right\n",
    "    return None\n",
    "\n",
    "# Recursive\n",
    "def lowestCommonAncestor(root: 'TreeNode', p: 'TreeNode', q: 'TreeNode') -> 'TreeNode':\n",
    "    if not root or not p or not q:\n",
    "        return None\n",
    "\n",
    "    # Both Nodes Left\n",
    "    if p.val < root.val and q.val < root.val:\n",
    "        return lowestCommonAncestor(root.left, p, q)\n",
    "    # Both Nodes Right\n",
    "    elif p.val > root.val and q.val > root.val:\n",
    "        return lowestCommonAncestor(root.right, p, q)\n",
    "    # Catches if on is root or if nodes in Left and Right nodes.\n",
    "    else:\n",
    "        return root\n",
    "\n",
    "\n",
    "# BST\n",
    "root = TreeNode(4)\n",
    "root.left = TreeNode(3)\n",
    "root.right = TreeNode(8)\n",
    "root.left.left = TreeNode(1)\n",
    "root.right.left = TreeNode(5)\n",
    "root.right.right = TreeNode(9)\n",
    "\n",
    "p,q = find_node(root,3), find_node(root,1)\n",
    "\n",
    "# Finding lowest common ancestor of nodes with values 2 and 8\n",
    "ancestor = lowestCommonAncestor(root, p, q)\n",
    "print(\"Lowest Common Ancestor:\", ancestor.val)\n"
   ]
  },
  {
   "cell_type": "markdown",
   "metadata": {},
   "source": [
    "Hint: Recursion might be the easiest way to do things.\n",
    "\n",
    "Follow-up exercise: Can you think of a way to do this iteratively?"
   ]
  },
  {
   "cell_type": "code",
   "execution_count": null,
   "metadata": {},
   "outputs": [],
   "source": [
    "def lowestCommonAncestor(root: 'TreeNode', p: 'TreeNode', q: 'TreeNode') -> 'TreeNode':\n",
    "    if not root or not p or not q:\n",
    "            print(\"Missing values\")\n",
    "            return None\n",
    "    while root:\n",
    "        if p.val < root.val and q.val < root.val:\n",
    "            root = root.left\n",
    "        elif p.val > root.val and q.val > root.val:\n",
    "            root = root.right\n",
    "        else:\n",
    "            return root"
   ]
  },
  {
   "cell_type": "code",
   "execution_count": null,
   "metadata": {},
   "outputs": [],
   "source": [
    "p,q = find_node(root,3), find_node(root,1)\n",
    "ancestor = lowestCommonAncestor(root, p, q)"
   ]
  },
  {
   "cell_type": "code",
   "execution_count": null,
   "metadata": {},
   "outputs": [],
   "source": [
    "p,q = find_node(root,1), find_node(root,5)\n",
    "ancestor = lowestCommonAncestor(root, p, q)"
   ]
  }
 ],
 "metadata": {
  "kernelspec": {
   "display_name": "Python 3",
   "language": "python",
   "name": "python3"
  },
  "language_info": {
   "codemirror_mode": {
    "name": "ipython",
    "version": 3
   },
   "file_extension": ".py",
   "mimetype": "text/x-python",
   "name": "python",
   "nbconvert_exporter": "python",
   "pygments_lexer": "ipython3",
   "version": "3.9.6"
  }
 },
 "nbformat": 4,
 "nbformat_minor": 2
}
