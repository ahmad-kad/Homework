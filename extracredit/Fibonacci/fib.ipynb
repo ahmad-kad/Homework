{
 "cells": [
  {
   "cell_type": "markdown",
   "metadata": {},
   "source": [
    "# Fibonacci Numbers\n",
    "A Fibonacci number is a sequence of numbers in which each number is the sum of the two preceding ones, usually starting with 0 and 1. The sequence typically begins as follows:\n",
    "\n",
    "0, 1, 1, 2, 3, 5, 8, 13, 21, ...\n",
    "\n",
    "Write a function to compute the nth Fibonacci number, in both Java and Python. \n",
    "\n",
    "### CONSTRAINT:\n",
    "\n",
    "Your implementation has to be optimized. Your solution should have a time complexity of O(n). \n"
   ]
  },
  {
   "cell_type": "code",
   "execution_count": 18,
   "metadata": {},
   "outputs": [],
   "source": [
    "\n",
    "def fibonacci(n):\n",
    "    if n == 1 or n == 0:\n",
    "        return n\n",
    "    return fibonacci(n-1) + fibonacci(n-2)"
   ]
  },
  {
   "cell_type": "code",
   "execution_count": 19,
   "metadata": {},
   "outputs": [
    {
     "data": {
      "text/plain": [
       "5"
      ]
     },
     "execution_count": 19,
     "metadata": {},
     "output_type": "execute_result"
    }
   ],
   "source": [
    "fibonacci(5)"
   ]
  },
  {
   "cell_type": "code",
   "execution_count": 21,
   "metadata": {},
   "outputs": [],
   "source": [
    "# Implementation to optimize call nth element of fibonaccisequence for future use. \n",
    "# Optimizes current calculated values at constant time by creating a hashmap with key:value pair\n",
    "\n",
    "fibonacciHash = {0:0,1:1}\n",
    "def fibonacci(n):\n",
    "    if n in fibonacciHash:\n",
    "        return fibonacciHash[n]\n",
    "    fibonacciHash[n] = fibonacci(n-1) + fibonacci(n-2)\n",
    "    return fibonacciHash[n]"
   ]
  },
  {
   "cell_type": "code",
   "execution_count": null,
   "metadata": {},
   "outputs": [],
   "source": []
  }
 ],
 "metadata": {
  "kernelspec": {
   "display_name": "base",
   "language": "python",
   "name": "python3"
  },
  "language_info": {
   "codemirror_mode": {
    "name": "ipython",
    "version": 3
   },
   "file_extension": ".py",
   "mimetype": "text/x-python",
   "name": "python",
   "nbconvert_exporter": "python",
   "pygments_lexer": "ipython3",
   "version": "3.11.5"
  }
 },
 "nbformat": 4,
 "nbformat_minor": 2
}
