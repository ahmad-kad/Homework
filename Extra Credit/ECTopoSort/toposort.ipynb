{
 "cells": [
  {
   "cell_type": "code",
   "execution_count": 127,
   "metadata": {},
   "outputs": [],
   "source": [
    "def topoSortKhan(graph):\n",
    "    degree = {node: 0 for node in graph}\n",
    "    visited = set() \n",
    "    \n",
    "    for node in graph:\n",
    "        for neighbor in graph[node]:\n",
    "            degree[neighbor] += 1\n",
    "    print(degree)\n",
    "    queue = [node for node in graph if degree[node] == 0]\n",
    "    result = []\n",
    "\n",
    "    while queue:\n",
    "        currentNode = queue.pop(0)\n",
    "\n",
    "        if currentNode in visited:\n",
    "            return None \n",
    "        \n",
    "        visited.add(currentNode)\n",
    "\n",
    "        result.append(currentNode)\n",
    "\n",
    "        for neighbor in graph[currentNode]:\n",
    "            degree[neighbor] -= 1\n",
    "            if degree[neighbor] == 0:\n",
    "                queue.append(neighbor)\n",
    "\n",
    "    if len(result) != len(graph):\n",
    "        return None\n",
    "\n",
    "    return result\n"
   ]
  },
  {
   "cell_type": "code",
   "execution_count": 128,
   "metadata": {},
   "outputs": [],
   "source": [
    "def topoSortDFS(graph):\n",
    "    visited = set()\n",
    "    stack = []\n",
    "    \n",
    "    \n",
    "    def dfs(node, ancestors):\n",
    "        visited.add(node)\n",
    "        ancestors.add(node)\n",
    "\n",
    "        for neighbor in graph[node]:\n",
    "            if neighbor in ancestors:\n",
    "                return False\n",
    "            \n",
    "            if neighbor not in visited:\n",
    "                if not dfs(neighbor, ancestors):\n",
    "                    return False\n",
    "        \n",
    "        ancestors.remove(node)\n",
    "        stack.append(node)\n",
    "        return True\n",
    "    \n",
    "    for node in graph:\n",
    "        if node not in visited:\n",
    "            if not dfs(node, set()):\n",
    "                return False\n",
    "    \n",
    "    return stack[::-1] if stack else False"
   ]
  },
  {
   "cell_type": "code",
   "execution_count": 129,
   "metadata": {},
   "outputs": [],
   "source": [
    "def printGraph(graph):\n",
    "    for vertex in graph:\n",
    "        print(f\"{vertex}: {', '.join(graph[vertex])}\")\n",
    "\n",
    "def printDegrees(graph):\n",
    "    for node in graph:\n",
    "        degree = len(graph[node])\n",
    "        print(f\"Degree of {node}: {degree}\")\n",
    "\n"
   ]
  },
  {
   "cell_type": "code",
   "execution_count": 130,
   "metadata": {},
   "outputs": [
    {
     "name": "stdout",
     "output_type": "stream",
     "text": [
      "{7: 1, 0: 0, 2: 1, 3: 1, 4: 3, 5: 3, 6: 3, 1: 5}\n",
      "[0, 7, 3, 2, 4, 5, 6, 1]\n",
      "[0, 3, 7, 2, 4, 5, 6, 1]\n"
     ]
    }
   ],
   "source": [
    "graph = {\n",
    "     \n",
    "     7 : [2,1,4],\n",
    "     0 : [7,3],\n",
    "     2 : [4,5,1],\n",
    "     3 : [4,5,6],\n",
    "     4 : [5,6,1],\n",
    "     5 : [6,1],\n",
    "     6 : [1],\n",
    "     1 : []\n",
    "}\n",
    "#printDegrees(graph)\n",
    "\n",
    "print(topoSortKhan(graph))\n",
    "print(topoSortDFS(graph))\n",
    "\n"
   ]
  }
 ],
 "metadata": {
  "kernelspec": {
   "display_name": "base",
   "language": "python",
   "name": "python3"
  },
  "language_info": {
   "codemirror_mode": {
    "name": "ipython",
    "version": 3
   },
   "file_extension": ".py",
   "mimetype": "text/x-python",
   "name": "python",
   "nbconvert_exporter": "python",
   "pygments_lexer": "ipython3",
   "version": "3.11.5"
  }
 },
 "nbformat": 4,
 "nbformat_minor": 2
}
