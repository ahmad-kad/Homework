{
 "cells": [
  {
   "cell_type": "code",
   "execution_count": null,
   "metadata": {},
   "outputs": [],
   "source": []
  },
  {
   "cell_type": "markdown",
   "metadata": {},
   "source": [
    "## Given an adjacency list, how can you convert it to an adjacency matrix? \n",
    "\n",
    "- First we need get the number of vertices\n",
    "- Then we need to create a 2d array. Initialized that all values are zero and each element corresponds to the relationship between vertices (edges) \n",
    "- Then map each key will represents one column.\n",
    "- iterate through the values of each key to add to the 2d array\n",
    "- if a key's value is part of the adjacency list, add one to the count.\n",
    "\n",
    "\n",
    "        def convert(graph):\n",
    "\n",
    "                getnumberofverts\n",
    "\n",
    "                matrix = [[0] * number of verts]\n",
    "\n",
    "                mappedMatrix = {vertex : index in graph.keys}\n",
    "\n",
    "                for x,y in adj.items()\n",
    "\n",
    "                        vertexIndex = mappedMatrix[x]\n",
    "\n",
    "                        for neighbor in y:\n",
    "\n",
    "                                neighborIndex = mappedMatrix[neighbor]\n",
    "\n",
    "                                matrix[vertexIndex][nieghborIndex] = 1\n",
    "\n",
    "                return\n",
    "        \n",
    "\n",
    "\n",
    "#### Adjacency List:\n",
    "\n",
    "        [a : [b,c,d], b : [a,c], c: [d], d:[b,a]]\n",
    "\n",
    "#### Adjacency Matrix:\n",
    "\n",
    "        [[0,1,1,1],\n",
    "\n",
    "        [1,0,1,0],\n",
    "\n",
    "        [0,0,0,1],\n",
    "\n",
    "        [1,1,0,0]]"
   ]
  },
  {
   "cell_type": "code",
   "execution_count": null,
   "metadata": {},
   "outputs": [],
   "source": []
  },
  {
   "cell_type": "code",
   "execution_count": 224,
   "metadata": {},
   "outputs": [],
   "source": [
    "def convertToMatrix (adjList):\n",
    "    keyList = sorted(adjList.keys())\n",
    "    numVertices = len(keyList)\n",
    "\n",
    "    # Initialized zero matrix\n",
    "    adjMatrix = [[0]* numVertices for _ in range(numVertices)]\n",
    "\n",
    "    # maps keys to columns\n",
    "    colMatrix = {vertex : index for index, vertex in enumerate(keyList)}\n",
    "    for vertex, neighbors in adjList.items():\n",
    "        vertexIdx = colMatrix[vertex]\n",
    "        # print(f\"vertex {vertex} : neighbors {neighbors}\")\n",
    "        for neighbor in neighbors:\n",
    "            neighborIdx = colMatrix[neighbor]\n",
    "            adjMatrix[vertexIdx][neighborIdx] = 1\n",
    "        \n",
    "    return adjMatrix\n"
   ]
  },
  {
   "cell_type": "code",
   "execution_count": 225,
   "metadata": {},
   "outputs": [],
   "source": [
    "graph = {'a' : ['b','c','d'], 'b' : ['a','c'], 'c': ['d'], 'd':['b','a']}\n"
   ]
  },
  {
   "cell_type": "code",
   "execution_count": 226,
   "metadata": {},
   "outputs": [
    {
     "name": "stdout",
     "output_type": "stream",
     "text": [
      "{'a': 0, 'b': 1, 'c': 2, 'd': 3}\n"
     ]
    },
    {
     "data": {
      "text/plain": [
       "[[0, 1, 1, 1], [1, 0, 1, 0], [0, 0, 0, 1], [1, 1, 0, 0]]"
      ]
     },
     "execution_count": 226,
     "metadata": {},
     "output_type": "execute_result"
    }
   ],
   "source": [
    "convertToMatrix(graph)"
   ]
  },
  {
   "cell_type": "markdown",
   "metadata": {},
   "source": [
    "## Given an adjacency matrix, how can you convert it to an adjacency list? \n",
    "\n",
    "    def adjMatrixToList(matrix):\n",
    "\n",
    "        numVertex\n",
    "\n",
    "        adjList\n",
    "\n",
    "        for key in numVertex\n",
    "            \n",
    "            neighbors = []\n",
    "\n",
    "            for adjVal in range(numVertex)\n",
    "\n",
    "                append(neighbor)\n",
    "                \n",
    "            vertex = someChar\n",
    "\n",
    "            adjList[vertex] = neighbors\n",
    "\n",
    "        return\n",
    "\n",
    "\n",
    "\n",
    "create an empty dictionary where its key is position in 2d array and its value is a list represents the row. \n",
    "\n",
    "Each column of that row with a value of one is added to the list.\n",
    "\n",
    "Then the key:value pair is added to the dictionary\n"
   ]
  },
  {
   "cell_type": "code",
   "execution_count": 227,
   "metadata": {},
   "outputs": [],
   "source": [
    "def adjacentMatrixToList(matrix):\n",
    "    numVertex = len(matrix)\n",
    "    adjList = {}\n",
    "\n",
    "    for key in range(numVertex):\n",
    "        neighbors = []\n",
    "        for adjacentValues in range(numVertex):\n",
    "            if matrix[key][adjacentValues] == 1:\n",
    "                neighbors.append(chr(97 + adjacentValues))\n",
    "        vertex = chr(97 + key)\n",
    "        adjList[vertex] = neighbors\n",
    "    return adjList\n",
    "            \n"
   ]
  },
  {
   "cell_type": "code",
   "execution_count": 228,
   "metadata": {},
   "outputs": [
    {
     "name": "stdout",
     "output_type": "stream",
     "text": [
      "{'a': 0, 'b': 1, 'c': 2, 'd': 3}\n"
     ]
    },
    {
     "data": {
      "text/plain": [
       "{'a': ['b', 'c', 'd'], 'b': ['a', 'c'], 'c': ['d'], 'd': ['a', 'b']}"
      ]
     },
     "execution_count": 228,
     "metadata": {},
     "output_type": "execute_result"
    }
   ],
   "source": [
    "matrix = convertToMatrix(graph)\n",
    "adjacentMatrixToList(matrix)"
   ]
  },
  {
   "cell_type": "markdown",
   "metadata": {},
   "source": [
    "## Given a directed graph, how can you reverse the direction of each edge? \n",
    "\n",
    "    def reverseGraph(graph):\n",
    "\n",
    "        adjList for key in graph (key,[])\n",
    "\n",
    "        for key,val in graph.items():\n",
    "\n",
    "            for x in val:\n",
    "\n",
    "                adjlist.append(key)\n",
    "        \n",
    "        return\n",
    "\n",
    "from an adjacency list initialize a dictionary and add entries for each key of graph with an empty array\n",
    "\n",
    "then iterate through each key's neighbor array and append the key to the value as a key. \n",
    "\n",
    "* sounds kind of confusing but basically it maps the key to the value instead of value to key.\n",
    "\n",
    "then it'll iterate through everything and return the final list"
   ]
  },
  {
   "cell_type": "code",
   "execution_count": 229,
   "metadata": {},
   "outputs": [],
   "source": [
    "def reverseGraph(graph):\n",
    "    adjList = {}\n",
    "    for key in graph:\n",
    "        adjList.setdefault(key, [])\n",
    "    for key,val in graph.items():\n",
    "        for x in val:\n",
    "            adjList[x].append(key)\n",
    "    return adjList\n"
   ]
  },
  {
   "cell_type": "code",
   "execution_count": 230,
   "metadata": {},
   "outputs": [
    {
     "name": "stdout",
     "output_type": "stream",
     "text": [
      "{'a': ['b', 'c', 'd'], 'b': ['a', 'c'], 'c': ['d'], 'd': ['b', 'a']}\n",
      "{'a': ['b', 'd'], 'b': ['a', 'd'], 'c': ['a', 'b'], 'd': ['a', 'c']}\n"
     ]
    }
   ],
   "source": [
    "print(graph)\n",
    "print(reverseGraph(graph))"
   ]
  },
  {
   "cell_type": "code",
   "execution_count": 231,
   "metadata": {},
   "outputs": [
    {
     "name": "stdout",
     "output_type": "stream",
     "text": [
      "{'a': 0, 'b': 1, 'c': 2, 'd': 3}\n"
     ]
    },
    {
     "data": {
      "text/plain": [
       "[[0, 1, 0, 1], [1, 0, 0, 1], [1, 1, 0, 0], [1, 0, 1, 0]]"
      ]
     },
     "execution_count": 231,
     "metadata": {},
     "output_type": "execute_result"
    }
   ],
   "source": [
    "convertToMatrix(reverseGraph(graph))"
   ]
  }
 ],
 "metadata": {
  "kernelspec": {
   "display_name": "base",
   "language": "python",
   "name": "python3"
  },
  "language_info": {
   "codemirror_mode": {
    "name": "ipython",
    "version": 3
   },
   "file_extension": ".py",
   "mimetype": "text/x-python",
   "name": "python",
   "nbconvert_exporter": "python",
   "pygments_lexer": "ipython3",
   "version": "3.11.5"
  }
 },
 "nbformat": 4,
 "nbformat_minor": 2
}
