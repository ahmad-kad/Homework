{
 "cells": [
  {
   "cell_type": "code",
   "execution_count": 1,
   "metadata": {},
   "outputs": [],
   "source": [
    "class TreeNode(object):\n",
    "    def __init__(self, val=0, left=None, right=None):\n",
    "\n",
    "        self.val = val\n",
    "        self.left = left\n",
    "        self.right = right"
   ]
  },
  {
   "cell_type": "code",
   "execution_count": 2,
   "metadata": {},
   "outputs": [],
   "source": [
    "def print_tree(node, level=0):\n",
    "    if node is not None:\n",
    "        print(\"  \" * level + str(node.val))\n",
    "        print_tree(node.left, level + 1)\n",
    "        print_tree(node.right, level + 1)\n"
   ]
  },
  {
   "cell_type": "code",
   "execution_count": 3,
   "metadata": {},
   "outputs": [],
   "source": [
    "def isBST(root):\n",
    "    if root is None:\n",
    "        return True\n",
    "    if (root.left and root.left.val >= root.val) or (root.right and root.right.val <= root.val):\n",
    "        return False\n",
    "    return isBST(root.left) and isBST(root.right)"
   ]
  },
  {
   "cell_type": "code",
   "execution_count": 4,
   "metadata": {},
   "outputs": [
    {
     "name": "stdout",
     "output_type": "stream",
     "text": [
      "6\n",
      "  4\n",
      "    3\n",
      "    1\n",
      "  8\n",
      "    7\n",
      "    9\n"
     ]
    }
   ],
   "source": [
    "root = TreeNode(6)\n",
    "root.left = TreeNode(4)\n",
    "root.right = TreeNode(8)\n",
    "\n",
    "root.left.left = TreeNode(3)\n",
    "root.left.right = TreeNode(1)\n",
    "root.right.left = TreeNode(7)\n",
    "root.right.right = TreeNode(9)\n",
    "\n",
    "print_tree(root)"
   ]
  },
  {
   "cell_type": "code",
   "execution_count": 6,
   "metadata": {},
   "outputs": [
    {
     "name": "stdout",
     "output_type": "stream",
     "text": [
      "False\n"
     ]
    }
   ],
   "source": [
    "print(isBST(root))"
   ]
  },
  {
   "cell_type": "code",
   "execution_count": 2,
   "metadata": {},
   "outputs": [
    {
     "name": "stdout",
     "output_type": "stream",
     "text": [
      "[NbConvertApp] Converting notebook lab05.ipynb to script\n",
      "[NbConvertApp] Writing 971 bytes to lab05.py\n"
     ]
    }
   ],
   "source": [
    "!jupyter nbconvert --to script lab05.ipynb"
   ]
  }
 ],
 "metadata": {
  "kernelspec": {
   "display_name": "Python 3",
   "language": "python",
   "name": "python3"
  },
  "language_info": {
   "codemirror_mode": {
    "name": "ipython",
    "version": 3
   },
   "file_extension": ".py",
   "mimetype": "text/x-python",
   "name": "python",
   "nbconvert_exporter": "python",
   "pygments_lexer": "ipython3",
   "version": "3.9.6"
  }
 },
 "nbformat": 4,
 "nbformat_minor": 2
}
