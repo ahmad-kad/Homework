{
 "cells": [
  {
   "cell_type": "markdown",
   "metadata": {},
   "source": [
    "# Time to solve another problem together! Here's the problem statement:\n",
    "\n",
    "Given two strings s and t, return true if t is an anagram of s, and false otherwise.\n",
    "\n",
    "An Anagram is a word or phrase formed by rearranging the letters of a different word or phrase, typically using all the original letters exactly once."
   ]
  },
  {
   "cell_type": "code",
   "execution_count": 36,
   "metadata": {},
   "outputs": [],
   "source": [
    "def createHashMap(input):\n",
    "    hashmap = {}\n",
    "    for x in input:\n",
    "        hashmap[x] = hashmap.get(x, 0) + 1\n",
    "    return hashmap\n",
    "\n",
    "def anagram(s,t):\n",
    "    return False if len(s) != len(t) or  createHashMap(s) != createHashMap(t) else True\n"
   ]
  },
  {
   "cell_type": "code",
   "execution_count": 37,
   "metadata": {},
   "outputs": [
    {
     "data": {
      "text/plain": [
       "True"
      ]
     },
     "execution_count": 37,
     "metadata": {},
     "output_type": "execute_result"
    }
   ],
   "source": [
    "s,t = \"doga\" , \"goad\"\n",
    "anagram(s,t)"
   ]
  },
  {
   "cell_type": "code",
   "execution_count": 38,
   "metadata": {},
   "outputs": [
    {
     "name": "stdout",
     "output_type": "stream",
     "text": [
      "Test Case 1: \u001b[92mTrue\u001b[0m : 'listen' and 'silent' \n",
      "Test Case 2: \u001b[92mTrue\u001b[0m : 'hello' and 'hello' \n",
      "Test Case 3: \u001b[91mFalse\u001b[0m : 'earth' and 'hearted' \n",
      "Test Case 4: \u001b[91mFalse\u001b[0m : 'Tea' and 'eAt' \n",
      "Test Case 5: \u001b[92mTrue\u001b[0m : 'debit card' and 'bad credit' \n",
      "Test Case 6: \u001b[91mFalse\u001b[0m : 'astronomer' and 'moon starer' \n",
      "Test Case 7: \u001b[91mFalse\u001b[0m : 'Café' and 'éaFc' \n",
      "Test Case 8: \u001b[92mTrue\u001b[0m : '' and '' \n",
      "Test Case 9: \u001b[92mTrue\u001b[0m : 'a' and 'a' \n",
      "Test Case 10: \u001b[91mFalse\u001b[0m : 'hello' and 'world' \n"
     ]
    }
   ],
   "source": [
    "test_cases = [\n",
    "    (\"listen\", \"silent\"),\n",
    "    (\"hello\", \"hello\"),\n",
    "    (\"earth\", \"hearted\"),\n",
    "    (\"Tea\", \"eAt\"),\n",
    "    (\"debit card\", \"bad credit\"),\n",
    "    (\"astronomer\", \"moon starer\"),\n",
    "    (\"Café\", \"éaFc\"),\n",
    "    (\"\", \"\"),\n",
    "    (\"a\", \"a\"),\n",
    "    (\"hello\", \"world\")\n",
    "]\n",
    "\n",
    "GREEN = '\\033[92m'\n",
    "RED = '\\033[91m'\n",
    "RESET = '\\033[0m'\n",
    "\n",
    "for idx, (str1, str2) in enumerate(test_cases, start=1):\n",
    "    result = 'True' if anagram(str1, str2) else 'False'\n",
    "    color = GREEN if result == 'True' else RED\n",
    "    print(f\"Test Case {idx}: {color}{result}{RESET} : '{str1}' and '{str2}' \")\n"
   ]
  },
  {
   "cell_type": "code",
   "execution_count": 40,
   "metadata": {},
   "outputs": [
    {
     "name": "stdout",
     "output_type": "stream",
     "text": [
      "[NbConvertApp] Converting notebook lab02.ipynb to script\n",
      "[NbConvertApp] Writing 1300 bytes to lab02.py\n"
     ]
    }
   ],
   "source": [
    "!jupyter nbconvert --to script lab02.ipynb"
   ]
  }
 ],
 "metadata": {
  "kernelspec": {
   "display_name": "base",
   "language": "python",
   "name": "python3"
  },
  "language_info": {
   "codemirror_mode": {
    "name": "ipython",
    "version": 3
   },
   "file_extension": ".py",
   "mimetype": "text/x-python",
   "name": "python",
   "nbconvert_exporter": "python",
   "pygments_lexer": "ipython3",
   "version": "3.11.5"
  }
 },
 "nbformat": 4,
 "nbformat_minor": 2
}
