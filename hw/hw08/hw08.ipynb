{
 "cells": [
  {
   "cell_type": "code",
   "execution_count": 21,
   "metadata": {},
   "outputs": [],
   "source": [
    "def longestPalindrome(s):\n",
    "    longestLength = 0\n",
    "    remainder = 0\n",
    "    hash = {x:0 for x in s}\n",
    "    \n",
    "    for x in s:\n",
    "        hash[x] += 1\n",
    "\n",
    "    for x in hash:\n",
    "        if hash[x] > 1:\n",
    "            if hash[x] % 2 == 0:\n",
    "                longestLength += hash[x] \n",
    "            else:\n",
    "                remainder = 1\n",
    "                longestLength += hash[x] - 1\n",
    "        else:\n",
    "            remainder = 1\n",
    "    return longestLength + remainder"
   ]
  },
  {
   "cell_type": "code",
   "execution_count": 22,
   "metadata": {},
   "outputs": [
    {
     "data": {
      "text/plain": [
       "9"
      ]
     },
     "execution_count": 22,
     "metadata": {},
     "output_type": "execute_result"
    }
   ],
   "source": [
    "s = \"speediskey\"\n",
    "longestPalindrome(s)"
   ]
  }
 ],
 "metadata": {
  "kernelspec": {
   "display_name": "base",
   "language": "python",
   "name": "python3"
  },
  "language_info": {
   "codemirror_mode": {
    "name": "ipython",
    "version": 3
   },
   "file_extension": ".py",
   "mimetype": "text/x-python",
   "name": "python",
   "nbconvert_exporter": "python",
   "pygments_lexer": "ipython3",
   "version": "3.11.5"
  }
 },
 "nbformat": 4,
 "nbformat_minor": 2
}
