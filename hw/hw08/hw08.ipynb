{
 "cells": [
  {
   "cell_type": "code",
   "execution_count": 21,
   "metadata": {},
   "outputs": [],
   "source": [
    "def longestPalindrome(s):\n",
    "    longestLength = 0\n",
    "    remainder = 0\n",
    "    hash = {x:0 for x in s}\n",
    "    \n",
    "    for x in s:\n",
    "        hash[x] += 1\n",
    "\n",
    "    for x in hash:\n",
    "        if hash[x] > 1:\n",
    "            if hash[x] % 2 == 0:\n",
    "                longestLength += hash[x] \n",
    "            else:\n",
    "                remainder = 1\n",
    "                longestLength += hash[x] - 1\n",
    "        else:\n",
    "            remainder = 1\n",
    "    return longestLength + remainder"
   ]
  },
  {
   "cell_type": "code",
   "execution_count": 22,
   "metadata": {},
   "outputs": [
    {
     "data": {
      "text/plain": [
       "9"
      ]
     },
     "execution_count": 22,
     "metadata": {},
     "output_type": "execute_result"
    }
   ],
   "source": [
    "s = \"speediskey\"\n",
    "longestPalindrome(s)"
   ]
  },
  {
   "cell_type": "code",
   "execution_count": 24,
   "metadata": {},
   "outputs": [
    {
     "name": "stdout",
     "output_type": "stream",
     "text": [
      "Test case 1: Passed\n",
      "Test case 2: Passed\n",
      "Test case 3: Passed\n",
      "Test case 4: Passed\n",
      "Test case 5: Passed\n",
      "Test case 6: Passed\n",
      "Test case 7: Passed\n",
      "Test case 8: Passed\n"
     ]
    }
   ],
   "source": [
    "# Test cases\n",
    "test_cases = [\n",
    "    # Empty input\n",
    "    (\"\", 0),\n",
    "    \n",
    "    # Single character\n",
    "    (\"a\", 1),\n",
    "    \n",
    "    # All unique characters\n",
    "    (\"abcde\", 1),\n",
    "    \n",
    "    # Palindrome with even-length\n",
    "    (\"abccba\", 6),\n",
    "    \n",
    "    # Palindrome with odd-length\n",
    "    (\"abcba\", 5),\n",
    "    \n",
    "    # Non-palindrome string\n",
    "    (\"abcdefg\", 1),\n",
    "    \n",
    "    # Mixed case palindrome\n",
    "    (\"aAbBcCdD\", 1),\n",
    "    \n",
    "    # Large input\n",
    "    (\"a\" * 10**6, 10**6)  # Expected output: 1000000\n",
    "]\n",
    "\n",
    "# Run test cases\n",
    "for i, (s, expected_output) in enumerate(test_cases):\n",
    "    result = longestPalindrome(s)\n",
    "    if result == expected_output:\n",
    "        print(f\"Test case {i+1}: Passed\")\n",
    "    else:\n",
    "        print(f\"Test case {i+1}: Failed. Expected: {expected_output}, Got: {result}\")\n"
   ]
  }
 ],
 "metadata": {
  "kernelspec": {
   "display_name": "base",
   "language": "python",
   "name": "python3"
  },
  "language_info": {
   "codemirror_mode": {
    "name": "ipython",
    "version": 3
   },
   "file_extension": ".py",
   "mimetype": "text/x-python",
   "name": "python",
   "nbconvert_exporter": "python",
   "pygments_lexer": "ipython3",
   "version": "3.11.5"
  }
 },
 "nbformat": 4,
 "nbformat_minor": 2
}
