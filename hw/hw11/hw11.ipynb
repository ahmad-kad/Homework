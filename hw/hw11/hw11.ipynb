{
 "cells": [
  {
   "cell_type": "code",
   "execution_count": 7,
   "metadata": {},
   "outputs": [],
   "source": [
    "from queue import Queue\n"
   ]
  },
  {
   "cell_type": "code",
   "execution_count": 8,
   "metadata": {},
   "outputs": [],
   "source": [
    "def floodFill(image, sr, sc, color):\n",
    "    #print(f\" img: {image[sr][sc]} col: {color}\")\n",
    "    if image[sr][sc] == color:\n",
    "        print(\"unchanged\")\n",
    "        return image\n",
    "    \n",
    "    originalColor = image[sr][sc]\n",
    "    \n",
    "    queue = Queue()\n",
    "    queue.put((sr, sc))\n",
    "    \n",
    "    while not queue.empty():\n",
    "        currentPixel = queue.get()\n",
    "\n",
    "        # loc pixel\n",
    "        x, y = currentPixel\n",
    "\n",
    "        # ignore out of bounds x,y, or if different from original color\n",
    "        if x < 0 or x >= len(image) or y < 0 or y >= len(image[0]) or image[x][y] != originalColor:\n",
    "            continue\n",
    "                \n",
    "        # sets new color\n",
    "        image[x][y] = color\n",
    "        \n",
    "        # adds adjacent pixels to queue\n",
    "        queue.put((x + 1, y))\n",
    "        queue.put((x - 1, y))\n",
    "        queue.put((x, y + 1))\n",
    "        queue.put((x, y - 1)) \n",
    "        \n",
    "    \n",
    "    return image"
   ]
  },
  {
   "cell_type": "code",
   "execution_count": 9,
   "metadata": {},
   "outputs": [],
   "source": [
    "def printMatrix(image):\n",
    "    for row in image:\n",
    "        print(row)\n"
   ]
  },
  {
   "cell_type": "markdown",
   "metadata": {},
   "source": [
    "## Test Case"
   ]
  },
  {
   "cell_type": "code",
   "execution_count": 10,
   "metadata": {},
   "outputs": [
    {
     "name": "stdout",
     "output_type": "stream",
     "text": [
      "Original Matrix\n",
      "[1, 1, 1]\n",
      "[2, 2, 0]\n",
      "[1, 0, 1]\n",
      "unchanged\n",
      "\n",
      "Flooded Matrix\n",
      "[1, 1, 1]\n",
      "[2, 2, 0]\n",
      "[1, 0, 1]\n"
     ]
    }
   ],
   "source": [
    "image = [[1,1,1],\n",
    "        [1,1,0],\n",
    "        [1,0,1]]\n",
    "\n",
    "# sr,sc = starting position, at (1,1) this indicates it'll start in the middle of the matrix and expand.\n",
    "# Then pixels will be colored as long as they're adjacent to another pixel.\n",
    "\n",
    "sr,sc,color=1,1,2\n",
    "print(\"Original Matrix\")\n",
    "printMatrix(image)\n",
    "flooded = floodFill(image,sr,sc,color)\n",
    "\n",
    "print(\"\\nFlooded Matrix\")\n",
    "printMatrix(flooded)"
   ]
  },
  {
   "cell_type": "code",
   "execution_count": 11,
   "metadata": {},
   "outputs": [
    {
     "name": "stdout",
     "output_type": "stream",
     "text": [
      "Original Matrix\n",
      "[0, 1, 2]\n",
      "[0, 4, 5]\n",
      "[0, 7, 8]\n",
      "\n",
      "Flooded Matrix\n",
      "[1, 1, 2]\n",
      "[1, 4, 5]\n",
      "[1, 7, 8]\n"
     ]
    }
   ],
   "source": [
    "image = [[0,1,2],\n",
    "        [0,4,5],\n",
    "        [0,7,8]]\n",
    "# sr,sc = starting position, at (1,1) this indicates it'll start in the middle of the matrix and expand.\n",
    "# Then pixels will be colored as long as they're adjacent to another pixel.\n",
    "\n",
    "sr,sc,color=0,0,1\n",
    "print(\"Original Matrix\")\n",
    "printMatrix(image)\n",
    "flooded = floodFill(image,sr,sc,color)\n",
    "\n",
    "print(\"\\nFlooded Matrix\")\n",
    "printMatrix(flooded)"
   ]
  },
  {
   "cell_type": "code",
   "execution_count": 12,
   "metadata": {},
   "outputs": [
    {
     "name": "stdout",
     "output_type": "stream",
     "text": [
      "Original Matrix\n",
      "[0, 0, 0]\n",
      "[0, 0, 0]\n",
      "\n",
      "Flooded Matrix\n",
      "[1, 1, 1]\n",
      "[1, 1, 1]\n"
     ]
    }
   ],
   "source": [
    "image = [[0,0,0],\n",
    "         [0,0,0]]\n",
    "sr,sc,color = 0,0,1\n",
    "\n",
    "print(\"Original Matrix\")\n",
    "printMatrix(image)\n",
    "flooded = floodFill(image,sr,sc,color)\n",
    "\n",
    "print(\"\\nFlooded Matrix\")\n",
    "printMatrix(flooded)\n"
   ]
  },
  {
   "cell_type": "code",
   "execution_count": 13,
   "metadata": {},
   "outputs": [
    {
     "name": "stdout",
     "output_type": "stream",
     "text": [
      "[NbConvertApp] Converting notebook hw11.ipynb to script\n",
      "[NbConvertApp] Writing 2094 bytes to hw11.py\n"
     ]
    }
   ],
   "source": [
    "!jupyter nbconvert --to script hw11.ipynb"
   ]
  }
 ],
 "metadata": {
  "kernelspec": {
   "display_name": "base",
   "language": "python",
   "name": "python3"
  },
  "language_info": {
   "codemirror_mode": {
    "name": "ipython",
    "version": 3
   },
   "file_extension": ".py",
   "mimetype": "text/x-python",
   "name": "python",
   "nbconvert_exporter": "python",
   "pygments_lexer": "ipython3",
   "version": "3.11.5"
  }
 },
 "nbformat": 4,
 "nbformat_minor": 2
}
