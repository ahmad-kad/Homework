{
 "cells": [
  {
   "cell_type": "code",
   "execution_count": 26,
   "metadata": {},
   "outputs": [],
   "source": [
    "import heapq\n",
    "def min_servers(intervals):\n",
    "    if not intervals:\n",
    "        return 0\n",
    "    \n",
    "    intervals.sort(key=lambda x: x[0])\n",
    "    servers = []\n",
    "\n",
    "    for start, end in intervals:\n",
    "        if servers and servers[0] <= start:\n",
    "            heapq.heappop(servers)\n",
    "        heapq.heappush(servers, end)\n",
    "    \n",
    "    return len(servers)\n",
    "\n"
   ]
  },
  {
   "cell_type": "code",
   "execution_count": 27,
   "metadata": {},
   "outputs": [],
   "source": [
    "\n",
    "def min_servers(intervals):\n",
    "    if not intervals:\n",
    "        return 0\n",
    "    \n",
    "    intervals.sort(key=lambda x: x[0])\n",
    "    servers = []\n",
    "\n",
    "    for start, end in intervals:\n",
    "        if servers and servers[-1] <= start:\n",
    "            servers.pop()\n",
    "        servers.append(end)\n",
    "    \n",
    "    return len(servers)\n",
    "\n",
    "\n"
   ]
  },
  {
   "cell_type": "code",
   "execution_count": 28,
   "metadata": {},
   "outputs": [
    {
     "name": "stdout",
     "output_type": "stream",
     "text": [
      "2\n"
     ]
    }
   ],
   "source": [
    "# Example usage:\n",
    "intervals = [[1, 3], [2, 5], [6, 9]]\n",
    "print(min_servers(intervals))"
   ]
  },
  {
   "cell_type": "code",
   "execution_count": 29,
   "metadata": {},
   "outputs": [
    {
     "name": "stdout",
     "output_type": "stream",
     "text": [
      "2\n"
     ]
    }
   ],
   "source": [
    "intervals = [[0,30],[5,10],[15,20]] \n",
    "print(min_servers(intervals)) # expected 2"
   ]
  },
  {
   "cell_type": "code",
   "execution_count": 30,
   "metadata": {},
   "outputs": [
    {
     "name": "stdout",
     "output_type": "stream",
     "text": [
      "1\n"
     ]
    }
   ],
   "source": [
    "intervals = [[0,1],[1,2],[2,3]]\n",
    "print(min_servers(intervals)) # expected 1"
   ]
  },
  {
   "cell_type": "code",
   "execution_count": null,
   "metadata": {},
   "outputs": [],
   "source": []
  }
 ],
 "metadata": {
  "kernelspec": {
   "display_name": "base",
   "language": "python",
   "name": "python3"
  },
  "language_info": {
   "codemirror_mode": {
    "name": "ipython",
    "version": 3
   },
   "file_extension": ".py",
   "mimetype": "text/x-python",
   "name": "python",
   "nbconvert_exporter": "python",
   "pygments_lexer": "ipython3",
   "version": "3.11.5"
  }
 },
 "nbformat": 4,
 "nbformat_minor": 2
}
