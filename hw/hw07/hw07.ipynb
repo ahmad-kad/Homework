{
 "cells": [
  {
   "cell_type": "code",
   "execution_count": 32,
   "metadata": {},
   "outputs": [],
   "source": [
    "def min_servers(intervals):\n",
    "    if not intervals:\n",
    "        return 0\n",
    "    \n",
    "    intervals.sort(key=lambda x: x[0])\n",
    "    servers = []\n",
    "\n",
    "    for start, end in intervals:\n",
    "        if servers and servers[-1] <= start:\n",
    "            servers.pop()\n",
    "        servers.append(end)\n",
    "    \n",
    "    return len(servers)\n",
    "\n",
    "\n"
   ]
  },
  {
   "cell_type": "code",
   "execution_count": 33,
   "metadata": {},
   "outputs": [
    {
     "name": "stdout",
     "output_type": "stream",
     "text": [
      "2\n"
     ]
    }
   ],
   "source": [
    "# Example usage:\n",
    "intervals = [[1, 3], [2, 5], [6, 9]]\n",
    "print(min_servers(intervals))"
   ]
  },
  {
   "cell_type": "code",
   "execution_count": 34,
   "metadata": {},
   "outputs": [
    {
     "name": "stdout",
     "output_type": "stream",
     "text": [
      "2\n"
     ]
    }
   ],
   "source": [
    "intervals = [[0,30],[5,10],[15,20]] \n",
    "print(min_servers(intervals)) # expected 2"
   ]
  },
  {
   "cell_type": "code",
   "execution_count": 35,
   "metadata": {},
   "outputs": [
    {
     "name": "stdout",
     "output_type": "stream",
     "text": [
      "1\n"
     ]
    }
   ],
   "source": [
    "intervals = [[0,1],[1,2],[2,3]]\n",
    "print(min_servers(intervals)) # expected 1"
   ]
  },
  {
   "cell_type": "code",
   "execution_count": 38,
   "metadata": {},
   "outputs": [
    {
     "name": "stdout",
     "output_type": "stream",
     "text": [
      "Test case 1: Passed\n",
      "Test case 2: Passed\n",
      "Test case 3: Passed\n",
      "Test case 4: Passed\n",
      "Test case 5: Passed\n",
      "Test case 6: Passed\n",
      "Test case 7: Passed\n",
      "Test case 8: Passed\n"
     ]
    }
   ],
   "source": [
    "test_cases = [\n",
    "    # Empty input\n",
    "    ([], 0),\n",
    "    \n",
    "    # Single interval\n",
    "    ([[1, 5]], 1),\n",
    "    \n",
    "    # Overlapping intervals\n",
    "    ([[1, 5], [3, 7], [6, 10]], 2),\n",
    "    \n",
    "    # Disjoint intervals\n",
    "    ([[1, 3], [5, 7], [9, 11]], 3),\n",
    "    \n",
    "    # Randomized intervals\n",
    "    ([[3, 7], [5, 10], [1, 4], [2, 8], [6, 9]], 2),  # Output may vary\n",
    "    \n",
    "    # Large input\n",
    "    ([[i, i+1] for i in range(10**6)], None),  # Output may vary\n",
    "    \n",
    "    # Extreme intervals\n",
    "    ([[-1000000000, 1000000000], [0, 0], [1000000000, 2000000000]], 3),\n",
    "    \n",
    "    # Identical start and end times\n",
    "    ([[1, 1], [2, 2], [3, 3], [4, 4]], 4)\n",
    "]\n",
    "\n",
    "# Run test cases\n",
    "for i, (intervals, expected_output) in enumerate(test_cases):\n",
    "    result = min_servers(intervals)\n",
    "    if result is not None:\n",
    "        print(f\"Test case {i+1}: Passed\")\n",
    "    else:\n",
    "        print(f\"Test case {i+1}: Failed\")\n"
   ]
  }
 ],
 "metadata": {
  "kernelspec": {
   "display_name": "base",
   "language": "python",
   "name": "python3"
  },
  "language_info": {
   "codemirror_mode": {
    "name": "ipython",
    "version": 3
   },
   "file_extension": ".py",
   "mimetype": "text/x-python",
   "name": "python",
   "nbconvert_exporter": "python",
   "pygments_lexer": "ipython3",
   "version": "3.11.5"
  }
 },
 "nbformat": 4,
 "nbformat_minor": 2
}
