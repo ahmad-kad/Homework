{
 "cells": [
  {
   "cell_type": "code",
   "execution_count": 32,
   "metadata": {},
   "outputs": [],
   "source": [
    "def min_servers(intervals):\n",
    "    if not intervals:\n",
    "        return 0\n",
    "    \n",
    "    intervals.sort(key=lambda x: x[0])\n",
    "    servers = []\n",
    "\n",
    "    for start, end in intervals:\n",
    "        if servers and servers[-1] <= start:\n",
    "            servers.pop()\n",
    "        servers.append(end)\n",
    "    \n",
    "    return len(servers)\n",
    "\n",
    "\n"
   ]
  },
  {
   "cell_type": "code",
   "execution_count": 33,
   "metadata": {},
   "outputs": [
    {
     "name": "stdout",
     "output_type": "stream",
     "text": [
      "2\n"
     ]
    }
   ],
   "source": [
    "# Example usage:\n",
    "intervals = [[1, 3], [2, 5], [6, 9]]\n",
    "print(min_servers(intervals))"
   ]
  },
  {
   "cell_type": "code",
   "execution_count": 34,
   "metadata": {},
   "outputs": [
    {
     "name": "stdout",
     "output_type": "stream",
     "text": [
      "2\n"
     ]
    }
   ],
   "source": [
    "intervals = [[0,30],[5,10],[15,20]] \n",
    "print(min_servers(intervals)) # expected 2"
   ]
  },
  {
   "cell_type": "code",
   "execution_count": 35,
   "metadata": {},
   "outputs": [
    {
     "name": "stdout",
     "output_type": "stream",
     "text": [
      "1\n"
     ]
    }
   ],
   "source": [
    "intervals = [[0,1],[1,2],[2,3]]\n",
    "print(min_servers(intervals)) # expected 1"
   ]
  }
 ],
 "metadata": {
  "kernelspec": {
   "display_name": "base",
   "language": "python",
   "name": "python3"
  },
  "language_info": {
   "codemirror_mode": {
    "name": "ipython",
    "version": 3
   },
   "file_extension": ".py",
   "mimetype": "text/x-python",
   "name": "python",
   "nbconvert_exporter": "python",
   "pygments_lexer": "ipython3",
   "version": "3.11.5"
  }
 },
 "nbformat": 4,
 "nbformat_minor": 2
}
