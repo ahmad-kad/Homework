{
 "cells": [
  {
   "cell_type": "code",
   "execution_count": 238,
   "metadata": {},
   "outputs": [],
   "source": [
    "from typing import List\n",
    "\n",
    "def threeSum( nums: List[int]) -> List[List[int]]:\n",
    "    fullList = []\n",
    "    setList = []\n",
    "    nums.sort()\n",
    "    print(nums)\n",
    "    for x in range(len(nums)-2):\n",
    "       #print(x)\n",
    "        for y in range(x+1,len(nums)):\n",
    "            #print(y)\n",
    "            for z in range(y+1,len(nums)):\n",
    "                #print(z)\n",
    "                #print(f\"{nums[x]}:{nums[y]}:{nums[z]}\")\n",
    "                combo = {nums[x],nums[y],nums[z]}\n",
    "                if nums[x] + nums[y] + nums[z] == 0 and combo not in setList:\n",
    "                    setList.append(combo)\n",
    "                    fullList.append([nums[x],nums[y],nums[z]])\n",
    "    return fullList\n",
    "        "
   ]
  },
  {
   "cell_type": "code",
   "execution_count": 239,
   "metadata": {},
   "outputs": [],
   "source": [
    "from typing import List\n",
    "\n",
    "def threeSum( nums: List[int]) -> List[List[int]]:\n",
    "    fullList = []\n",
    "    nums.sort()\n",
    "    \n",
    "    for i in range(len(nums)-2):\n",
    "       if i > 0 and nums[i] == nums[i - 1]:\n",
    "            continue\n",
    "       left,right = i + 1, len(nums)-1 \n",
    "       while left < right:\n",
    "            total = nums[i] + nums[left] + nums[right]\n",
    "            if total < 0:\n",
    "               left+=1\n",
    "            elif total >0:\n",
    "               right-=1\n",
    "            else:\n",
    "                fullList.append([nums[i],nums[left],nums[right]])\n",
    "                left +=1\n",
    "                right -=1\n",
    "                while left < right and nums[left] == nums[left - 1]:\n",
    "                    left += 1\n",
    "                while left < right and nums[right] == nums[right + 1]:\n",
    "                    right -= 1\n",
    "\n",
    "    return fullList\n",
    "        "
   ]
  },
  {
   "cell_type": "code",
   "execution_count": 240,
   "metadata": {},
   "outputs": [
    {
     "name": "stdout",
     "output_type": "stream",
     "text": [
      "[0, 1, 1]\n"
     ]
    },
    {
     "data": {
      "text/plain": [
       "[]"
      ]
     },
     "execution_count": 240,
     "metadata": {},
     "output_type": "execute_result"
    }
   ],
   "source": [
    "nums = [0,1,1]\n",
    "threeSum(nums)"
   ]
  },
  {
   "cell_type": "code",
   "execution_count": 241,
   "metadata": {},
   "outputs": [
    {
     "name": "stdout",
     "output_type": "stream",
     "text": [
      "[-10, -5, 0, 0, 5, 10]\n"
     ]
    },
    {
     "data": {
      "text/plain": [
       "[[-10, 0, 10], [-5, 0, 5]]"
      ]
     },
     "execution_count": 241,
     "metadata": {},
     "output_type": "execute_result"
    }
   ],
   "source": [
    "nums = [-5,0,5,10,-10,0] \n",
    "threeSum(nums)"
   ]
  },
  {
   "cell_type": "markdown",
   "metadata": {},
   "source": [
    "\n",
    "def threeSum(self, nums: List[int]) -> List[List[int]]:\n",
    "\n",
    "  #Your code here\n",
    "\n",
    "Announced Test Cases:\n",
    "\n",
    "Input: nums = [0,1,1]\n",
    "Output: []\n",
    "Explanation: The only possible triplet does not sum up to 0.\n",
    "\n",
    "Input: nums = [-5,0,5,10,-10,0] \n",
    "Output: [[-10,0,10],[-5,0,5]] \n",
    "Explanation: There are two possible combinations of triplets that satisfy: (-5,0,5) and (-10,0,10).\n",
    "\n",
    "Hint: There are 3 well-known ways to solve this problem!\n",
    "\n",
    "Hint 2: This problem should remind you of another homework problem that you hopefully have already solved. \n",
    "\n",
    "Hint 3: This problem might benefit from the algorithms we have recently discussed in class!"
   ]
  },
  {
   "cell_type": "code",
   "execution_count": 242,
   "metadata": {},
   "outputs": [
    {
     "name": "stdout",
     "output_type": "stream",
     "text": [
      "[NbConvertApp] Converting notebook hw06.ipynb to script\n",
      "[NbConvertApp] Writing 2350 bytes to hw06.py\n"
     ]
    }
   ],
   "source": [
    "!jupyter nbconvert --to script hw06.ipynb"
   ]
  }
 ],
 "metadata": {
  "kernelspec": {
   "display_name": "base",
   "language": "python",
   "name": "python3"
  },
  "language_info": {
   "codemirror_mode": {
    "name": "ipython",
    "version": 3
   },
   "file_extension": ".py",
   "mimetype": "text/x-python",
   "name": "python",
   "nbconvert_exporter": "python",
   "pygments_lexer": "ipython3",
   "version": "3.11.5"
  }
 },
 "nbformat": 4,
 "nbformat_minor": 2
}
