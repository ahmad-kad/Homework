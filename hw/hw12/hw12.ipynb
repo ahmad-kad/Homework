{
 "cells": [
  {
   "cell_type": "code",
   "execution_count": 266,
   "metadata": {},
   "outputs": [],
   "source": [
    "\n",
    "\n",
    "from typing import List\n",
    "import heapq\n",
    "### Create adjacent list\n",
    "### Add to stack by min weight, use sorting to order by weight and then add to stack\n",
    "### Recursively call to while stack is full\n",
    "### Check if pair is in set\n",
    "### If in set, skip, else add to list\n",
    "### Sum clost in list sum += [x for x in list[2]]\n",
    "\n",
    "def minCostToSupplyWater(n: int, wells: List[int], pipes: List[List[int]]) -> int:\n",
    "    mst  = set()\n",
    "    visited = set()\n",
    "    minimum_cost = wells[0]  # Initialize the minimum cost of the MST\n",
    "    \n",
    "    graph = convertToGraph(n,pipes)\n",
    "    start = list(graph.keys())[0]  # Choose an arbitrary starting node\n",
    "    \n",
    "    \n",
    "    pq = [(cost, start, neighbor) for neighbor, cost in graph[start]]\n",
    "    heapq.heapify(pq)\n",
    "    \n",
    "    visited.add(start)  # Mark the starting node as visited\n",
    "    print(pq)\n",
    "    print(start)\n",
    "    while pq:\n",
    "        cost, u, v = heapq.heappop(pq)  # Pop the edge with the minimum weight from the priority queue\n",
    "        \n",
    "        if v not in visited:  # If the destination node is not visited\n",
    "            visited.add(v)  # Mark the destination node as visited\n",
    "            mst.add((u, v, cost))  # Add the edge to the minimum spanning tree\n",
    "            minimum_cost += cost  # Accumulate the cost of the edge\n",
    "            \n",
    "            # Add all edges incident to the new node to the priority queue\n",
    "            for neighbor, edge_cost in graph[v]:\n",
    "                if neighbor not in visited:\n",
    "                    heapq.heappush(pq, (edge_cost, v, neighbor))\n",
    "    \n",
    "\n",
    "def convertToGraph(n, pipes):\n",
    "    graph = {i + 1: [] for i in range(n)}\n",
    "    for pipe in pipes:\n",
    "        house1, house2, cost = pipe\n",
    "        graph[house1].append((house2, cost))\n",
    "        graph[house2].append((house1, cost))\n",
    "    return graph"
   ]
  },
  {
   "cell_type": "code",
   "execution_count": 267,
   "metadata": {},
   "outputs": [
    {
     "name": "stdout",
     "output_type": "stream",
     "text": [
      "[(1, 1, 2), (2, 1, 2)]\n",
      "1\n"
     ]
    }
   ],
   "source": [
    "n = 2\n",
    "wells = [1,1]\n",
    "pipes = [[1,2,1],[1,2,2]]\n",
    "\n",
    "minCostToSupplyWater(n,wells,pipes)\n"
   ]
  },
  {
   "cell_type": "markdown",
   "metadata": {},
   "source": [
    "Sort edge list by 3rd\n",
    "\n",
    "pop from list\n",
    "check if pair in list\n",
    "add pair to visted and add to total\n",
    "else skip\n",
    "\n"
   ]
  },
  {
   "cell_type": "code",
   "execution_count": 268,
   "metadata": {},
   "outputs": [],
   "source": [
    "def isDisjoint(set1, set2):\n",
    "    for element in set1:\n",
    "        if element in set2:\n",
    "            return False \n",
    "    return True "
   ]
  },
  {
   "cell_type": "code",
   "execution_count": 269,
   "metadata": {},
   "outputs": [],
   "source": [
    "def topoSortDFS(graph):\n",
    "    visited = set()\n",
    "    stack = []\n",
    "    \n",
    "    \n",
    "    def dfs(node, ancestors,direction):\n",
    "        visited.add(node)\n",
    "        ancestors.add((node,direction))\n",
    "        \n",
    "        for neighbor in graph[node]:\n",
    "            if neighbor in ancestors:\n",
    "                return False\n",
    "            \n",
    "            if neighbor not in visited:\n",
    "                if not dfs(neighbor, ancestors):\n",
    "                    return False\n",
    "        \n",
    "        ancestors.remove(node)\n",
    "        stack.append(node)\n",
    "        return True\n",
    "    \n",
    "    for node in graph:\n",
    "        if node not in visited:\n",
    "            if not dfs(node, set()):\n",
    "                return False\n",
    "    \n",
    "    return stack[::-1] if stack else False"
   ]
  },
  {
   "cell_type": "code",
   "execution_count": 270,
   "metadata": {},
   "outputs": [
    {
     "name": "stdout",
     "output_type": "stream",
     "text": [
      "[(1, 1, 2), (2, 1, 2), (5, 1, 3)]\n",
      "1\n"
     ]
    }
   ],
   "source": [
    "n = 3\n",
    "wells = [1,1,1]\n",
    "pipes = [[1,2,1],[1,2,2],[2,3,1],[3,1,5]]\n",
    "\n",
    "minCostToSupplyWater(n,wells,pipes)\n"
   ]
  },
  {
   "cell_type": "code",
   "execution_count": 271,
   "metadata": {},
   "outputs": [
    {
     "ename": "KeyError",
     "evalue": "0",
     "output_type": "error",
     "traceback": [
      "\u001b[0;31m---------------------------------------------------------------------------\u001b[0m",
      "\u001b[0;31mKeyError\u001b[0m                                  Traceback (most recent call last)",
      "\u001b[1;32m/Users/ahmadkaddoura/Documents/Homework/hw/hw12/hw12.ipynb Cell 7\u001b[0m line \u001b[0;36m3\n\u001b[1;32m     <a href='vscode-notebook-cell:/Users/ahmadkaddoura/Documents/Homework/hw/hw12/hw12.ipynb#X10sZmlsZQ%3D%3D?line=27'>28</a>\u001b[0m wells \u001b[39m=\u001b[39m [\u001b[39m1\u001b[39m, \u001b[39m1\u001b[39m, \u001b[39m1\u001b[39m]\n\u001b[1;32m     <a href='vscode-notebook-cell:/Users/ahmadkaddoura/Documents/Homework/hw/hw12/hw12.ipynb#X10sZmlsZQ%3D%3D?line=28'>29</a>\u001b[0m pipes \u001b[39m=\u001b[39m [[\u001b[39m1\u001b[39m, \u001b[39m2\u001b[39m, \u001b[39m1\u001b[39m], [\u001b[39m1\u001b[39m, \u001b[39m2\u001b[39m, \u001b[39m2\u001b[39m], [\u001b[39m2\u001b[39m, \u001b[39m3\u001b[39m, \u001b[39m1\u001b[39m], [\u001b[39m3\u001b[39m, \u001b[39m1\u001b[39m, \u001b[39m5\u001b[39m]]\n\u001b[0;32m---> <a href='vscode-notebook-cell:/Users/ahmadkaddoura/Documents/Homework/hw/hw12/hw12.ipynb#X10sZmlsZQ%3D%3D?line=29'>30</a>\u001b[0m \u001b[39mprint\u001b[39m(minCostToSupplyWater(n, wells, pipes))\n",
      "\u001b[1;32m/Users/ahmadkaddoura/Documents/Homework/hw/hw12/hw12.ipynb Cell 7\u001b[0m line \u001b[0;36m2\n\u001b[1;32m     <a href='vscode-notebook-cell:/Users/ahmadkaddoura/Documents/Homework/hw/hw12/hw12.ipynb#X10sZmlsZQ%3D%3D?line=17'>18</a>\u001b[0m visited\u001b[39m.\u001b[39madd(node)\n\u001b[1;32m     <a href='vscode-notebook-cell:/Users/ahmadkaddoura/Documents/Homework/hw/hw12/hw12.ipynb#X10sZmlsZQ%3D%3D?line=18'>19</a>\u001b[0m min_cost \u001b[39m+\u001b[39m\u001b[39m=\u001b[39m cost\n\u001b[0;32m---> <a href='vscode-notebook-cell:/Users/ahmadkaddoura/Documents/Homework/hw/hw12/hw12.ipynb#X10sZmlsZQ%3D%3D?line=19'>20</a>\u001b[0m \u001b[39mfor\u001b[39;00m neighbor_cost, neighbor_node \u001b[39min\u001b[39;00m graph[node]:\n\u001b[1;32m     <a href='vscode-notebook-cell:/Users/ahmadkaddoura/Documents/Homework/hw/hw12/hw12.ipynb#X10sZmlsZQ%3D%3D?line=20'>21</a>\u001b[0m     \u001b[39mif\u001b[39;00m neighbor_node \u001b[39mnot\u001b[39;00m \u001b[39min\u001b[39;00m visited:\n\u001b[1;32m     <a href='vscode-notebook-cell:/Users/ahmadkaddoura/Documents/Homework/hw/hw12/hw12.ipynb#X10sZmlsZQ%3D%3D?line=21'>22</a>\u001b[0m         heapq\u001b[39m.\u001b[39mheappush(min_heap, (neighbor_cost, neighbor_node))\n",
      "\u001b[0;31mKeyError\u001b[0m: 0"
     ]
    }
   ],
   "source": [
    "import heapq\n",
    "\n",
    "def minCostToSupplyWater(n, wells, pipes):\n",
    "    graph = {i: [] for i in range(1, n+1)}\n",
    "    for house, pipe in enumerate(pipes, start=1):\n",
    "        graph[pipe[0]].append((pipe[2], pipe[1]))\n",
    "        graph[pipe[1]].append((pipe[2], pipe[0]))\n",
    "    for i, well in enumerate(wells, start=1):\n",
    "        graph[].append((well, i))\n",
    "\n",
    "    visited = set()\n",
    "    min_cost = 0\n",
    "    min_heap = [(0, 0)]  # (cost, node)\n",
    "\n",
    "    while min_heap:\n",
    "        cost, node = heapq.heappop(min_heap)\n",
    "        if node not in visited:\n",
    "            visited.add(node)\n",
    "            min_cost += cost\n",
    "            for neighbor_cost, neighbor_node in graph[node]:\n",
    "                if neighbor_node not in visited:\n",
    "                    heapq.heappush(min_heap, (neighbor_cost, neighbor_node))\n",
    "\n",
    "    return min_cost\n",
    "\n",
    "# Test case\n",
    "n = 3\n",
    "wells = [1, 1, 1]\n",
    "pipes = [[1, 2, 1], [1, 2, 2], [2, 3, 1], [3, 1, 5]]\n",
    "print(minCostToSupplyWater(n, wells, pipes))  # Output: 3\n"
   ]
  }
 ],
 "metadata": {
  "kernelspec": {
   "display_name": "base",
   "language": "python",
   "name": "python3"
  },
  "language_info": {
   "codemirror_mode": {
    "name": "ipython",
    "version": 3
   },
   "file_extension": ".py",
   "mimetype": "text/x-python",
   "name": "python",
   "nbconvert_exporter": "python",
   "pygments_lexer": "ipython3",
   "version": "3.11.5"
  }
 },
 "nbformat": 4,
 "nbformat_minor": 2
}
