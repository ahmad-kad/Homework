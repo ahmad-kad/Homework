{
 "cells": [
  {
   "cell_type": "code",
   "execution_count": 1,
   "metadata": {},
   "outputs": [],
   "source": [
    "# Prim's algorithm\n",
    "\n",
    "from typing import List\n",
    "import heapq\n",
    "\n",
    "def minCostToSupplyWater(n: int, wells: List[int], pipes: List[List[int]]) -> int:\n",
    "    mst  = set()\n",
    "    visited = set()\n",
    "    minCost = min(wells)\n",
    "    \n",
    "    graph = convertToGraph(n,pipes)\n",
    "    start = list(graph.keys())[0]\n",
    "    \n",
    "    queue = [(start, neighbor,cost) for neighbor, cost in graph[start]]\n",
    "    heapq.heapify(queue)\n",
    "    \n",
    "    visited.add(start)\n",
    "\n",
    "    while queue:\n",
    "        house1, house2, cost  = heapq.heappop(queue)\n",
    "        \n",
    "        if house2 not in visited: \n",
    "            visited.add(house2) \n",
    "            mst.add((house1, house2, cost)) \n",
    "            minCost += cost  \n",
    "            \n",
    "            for neighbor, edge_cost in graph[house2]:\n",
    "                if neighbor not in visited:\n",
    "                    heapq.heappush(queue, (house2, neighbor,edge_cost))\n",
    "    \n",
    "    print(f\"MST: {mst}\")\n",
    "    return minCost\n",
    "    \n",
    "\n",
    "def convertToGraph(n, pipes):\n",
    "    graph = {i + 1: [] for i in range(n)}\n",
    "    for pipe in pipes:\n",
    "        house1, house2, cost = pipe\n",
    "        graph[house1].append((house2, cost))\n",
    "        graph[house2].append((house1, cost))\n",
    "    return graph"
   ]
  },
  {
   "cell_type": "code",
   "execution_count": 2,
   "metadata": {},
   "outputs": [
    {
     "name": "stdout",
     "output_type": "stream",
     "text": [
      "MST: {(1, 2, 1)}\n"
     ]
    },
    {
     "data": {
      "text/plain": [
       "2"
      ]
     },
     "execution_count": 2,
     "metadata": {},
     "output_type": "execute_result"
    }
   ],
   "source": [
    "n = 2\n",
    "wells = [1,1]\n",
    "pipes = [[1,2,1],[1,2,2]]\n",
    "\n",
    "minCostToSupplyWater(n,wells,pipes)\n"
   ]
  },
  {
   "cell_type": "code",
   "execution_count": 3,
   "metadata": {},
   "outputs": [],
   "source": [
    "def quicksort(pipes):\n",
    "    if len(pipes) <= 1:\n",
    "        return pipes\n",
    "    pivot = pipes[len(pipes) // 2][-1]\n",
    "    left = [pipe for pipe in pipes if pipe[-1] < pivot]\n",
    "    middle = [pipe for pipe in pipes if pipe[-1] == pivot]\n",
    "    right = [pipe for pipe in pipes if pipe[-1] > pivot]\n",
    "    return quicksort(left) + middle + quicksort(right)"
   ]
  },
  {
   "cell_type": "code",
   "execution_count": 4,
   "metadata": {},
   "outputs": [],
   "source": [
    "# Krusgal's algoirthm using quicksort\n",
    "def minCostToSupplyWater(n: int, wells: List[int], pipes: List[List[int]]) -> int:\n",
    "    visited = set()\n",
    "    sortedList = quicksort(pipes)\n",
    "    mst = []\n",
    "\n",
    "    for x in sortedList:\n",
    "        if x[0] and x[1] not in visited:\n",
    "            visited.add(x[0])\n",
    "            visited.add(x[1])\n",
    "            mst.append(x)\n",
    "\n",
    "    print(f\"MST : {mst}\")\n",
    "    total = 0\n",
    "    total += sum(x[-1] for x in mst) + min(wells)\n",
    "\n",
    "    #print(sortedList)\n",
    "    #print(mst)\n",
    "    #print(total)\n",
    "    return total"
   ]
  },
  {
   "cell_type": "code",
   "execution_count": 5,
   "metadata": {},
   "outputs": [
    {
     "name": "stdout",
     "output_type": "stream",
     "text": [
      "MST : [[1, 2, 1], [2, 3, 1]]\n"
     ]
    },
    {
     "data": {
      "text/plain": [
       "3"
      ]
     },
     "execution_count": 5,
     "metadata": {},
     "output_type": "execute_result"
    }
   ],
   "source": [
    "n = 3\n",
    "wells = [1,1,1]\n",
    "pipes = [[1,2,1],[1,2,2],[2,3,1],[3,1,5]]\n",
    "\n",
    "minCostToSupplyWater(n,wells,pipes)\n"
   ]
  },
  {
   "cell_type": "code",
   "execution_count": 6,
   "metadata": {},
   "outputs": [
    {
     "name": "stdout",
     "output_type": "stream",
     "text": [
      "MST : [[1, 2, 1]]\n"
     ]
    },
    {
     "data": {
      "text/plain": [
       "2"
      ]
     },
     "execution_count": 6,
     "metadata": {},
     "output_type": "execute_result"
    }
   ],
   "source": [
    "# Test Case\n",
    "n = 2\n",
    "wells = [1,1]\n",
    "pipes = [[1,2,1],[1,2,2]]\n",
    "\n",
    "minCostToSupplyWater(n,wells,pipes)\n"
   ]
  },
  {
   "cell_type": "code",
   "execution_count": 7,
   "metadata": {},
   "outputs": [
    {
     "name": "stdout",
     "output_type": "stream",
     "text": [
      "MST : []\n"
     ]
    },
    {
     "data": {
      "text/plain": [
       "1"
      ]
     },
     "execution_count": 7,
     "metadata": {},
     "output_type": "execute_result"
    }
   ],
   "source": [
    "# Single Case\n",
    "n = 1\n",
    "wells = [1]\n",
    "pipes = []\n",
    "\n",
    "minCostToSupplyWater(n,wells,pipes)"
   ]
  },
  {
   "cell_type": "code",
   "execution_count": 8,
   "metadata": {},
   "outputs": [
    {
     "name": "stdout",
     "output_type": "stream",
     "text": [
      "MST : [[1, 2, 1], [2, 3, 2], [3, 4, 3]]\n"
     ]
    },
    {
     "data": {
      "text/plain": [
       "7"
      ]
     },
     "execution_count": 8,
     "metadata": {},
     "output_type": "execute_result"
    }
   ],
   "source": [
    "\n",
    "n = 4\n",
    "wells = [1, 2, 3, 4]\n",
    "pipes = [[1, 2, 1], [2, 3, 2], [3, 4, 3]]\n",
    "\n",
    "minCostToSupplyWater(n,wells,pipes)"
   ]
  },
  {
   "cell_type": "code",
   "execution_count": 9,
   "metadata": {},
   "outputs": [
    {
     "name": "stdout",
     "output_type": "stream",
     "text": [
      "MST : [[1, 2, 1], [1, 3, 1], [2, 4, 1]]\n"
     ]
    },
    {
     "data": {
      "text/plain": [
       "4"
      ]
     },
     "execution_count": 9,
     "metadata": {},
     "output_type": "execute_result"
    }
   ],
   "source": [
    "# Uneven well cost\n",
    "n = 4\n",
    "wells = [1, 2, 3, 4]\n",
    "pipes = [[1, 2, 1], [1, 3, 1], [2, 4, 1], [3, 4, 1]]\n",
    "\n",
    "minCostToSupplyWater(n,wells,pipes)"
   ]
  },
  {
   "cell_type": "code",
   "execution_count": 10,
   "metadata": {},
   "outputs": [
    {
     "name": "stdout",
     "output_type": "stream",
     "text": [
      "[NbConvertApp] Converting notebook hw12.ipynb to script\n",
      "[NbConvertApp] Writing 2698 bytes to hw12.py\n"
     ]
    }
   ],
   "source": [
    "!jupyter nbconvert --to script hw12.ipynb"
   ]
  }
 ],
 "metadata": {
  "kernelspec": {
   "display_name": "base",
   "language": "python",
   "name": "python3"
  },
  "language_info": {
   "codemirror_mode": {
    "name": "ipython",
    "version": 3
   },
   "file_extension": ".py",
   "mimetype": "text/x-python",
   "name": "python",
   "nbconvert_exporter": "python",
   "pygments_lexer": "ipython3",
   "version": "3.11.5"
  }
 },
 "nbformat": 4,
 "nbformat_minor": 2
}
