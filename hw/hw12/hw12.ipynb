{
 "cells": [
  {
   "cell_type": "code",
   "execution_count": 21,
   "metadata": {},
   "outputs": [],
   "source": [
    "\n",
    "\n",
    "from typing import List\n",
    "\n",
    "\n",
    "def minCostToSupplyWater(n: int, wells: List[int], pipes: List[List[int]]) -> int:\n",
    "    wellCost = {i: cost for i, cost in enumerate(wells, start=1)}\n",
    "    \n",
    "    graph = {i: [] for i in range(n+1)}\n",
    "    for pipe in pipes:\n",
    "        house1,house2,cost = pipe\n",
    "        graph[house1].append(((house2),cost))\n",
    "        graph[house2].append(((house1),cost))\n",
    "\n",
    "    print(graph)\n",
    "    print(f\"Cost of Wells: {wellCost}\")\n",
    "\n",
    "def getMinNeighbor(node):\n",
    "    pass"
   ]
  },
  {
   "cell_type": "code",
   "execution_count": 22,
   "metadata": {},
   "outputs": [
    {
     "name": "stdout",
     "output_type": "stream",
     "text": [
      "{0: [], 1: [(2, 1), (2, 2)], 2: [(1, 1), (1, 2)]}\n",
      "Cost of Wells: {1: 1, 2: 1}\n"
     ]
    }
   ],
   "source": [
    "n = 2\n",
    "wells = [1,1]\n",
    "pipes = [[1,2,1],[1,2,2]]\n",
    "\n",
    "minCostToSupplyWater(n,wells,pipes)\n"
   ]
  }
 ],
 "metadata": {
  "kernelspec": {
   "display_name": "base",
   "language": "python",
   "name": "python3"
  },
  "language_info": {
   "codemirror_mode": {
    "name": "ipython",
    "version": 3
   },
   "file_extension": ".py",
   "mimetype": "text/x-python",
   "name": "python",
   "nbconvert_exporter": "python",
   "pygments_lexer": "ipython3",
   "version": "3.11.5"
  }
 },
 "nbformat": 4,
 "nbformat_minor": 2
}
