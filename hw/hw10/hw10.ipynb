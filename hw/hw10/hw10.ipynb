{
 "cells": [
  {
   "cell_type": "code",
   "execution_count": 10,
   "metadata": {},
   "outputs": [],
   "source": [
    "## Init"
   ]
  },
  {
   "cell_type": "code",
   "execution_count": 11,
   "metadata": {},
   "outputs": [],
   "source": [
    "class TreeNode(object):\n",
    "     def __init__(self, val=0, left=None, right=None):\n",
    "         self.val = val\n",
    "         self.left = left\n",
    "         self.right = right"
   ]
  },
  {
   "cell_type": "code",
   "execution_count": 12,
   "metadata": {},
   "outputs": [],
   "source": [
    "def print_queue(queue):\n",
    "    for node in queue:\n",
    "        print(node.val)\n"
   ]
  },
  {
   "cell_type": "code",
   "execution_count": 13,
   "metadata": {},
   "outputs": [],
   "source": [
    "from typing import List, Optional\n",
    "\n",
    "\n",
    "def levelOrder(root: Optional[TreeNode]) -> List[List[int]]:\n",
    "    ## Check if root is null\n",
    "    if root is None:\n",
    "        return None\n",
    "    \n",
    "    ## Add root to array (list)\n",
    "\n",
    "    ## Add children to Array (list)\n",
    "    \n",
    "    ## Add Their Children to array (list)\n",
    "    def bfs(root: TreeNode) -> List[List[int]]:\n",
    "        result,queue = [],[root]\n",
    "        while queue:\n",
    "            level_values,level_size = [],len(queue)\n",
    "            #print(f\"level_size = {level_size}\")\n",
    "            for _ in range(level_size):\n",
    "                node = queue.pop(0)\n",
    "                level_values.append(node.val)\n",
    "\n",
    "                # add left and/or right node if they exist to queue\n",
    "                queue.extend([child for child in [node.left, node.right] if child])\n",
    "\n",
    "                #print(f\"level values: {level_values}\")\n",
    "            #print_queue(queue)\n",
    "            result.append(level_values)\n",
    "            #print(f\"result: {result}\")\n",
    "        return result\n",
    "\n",
    "    return bfs(root)\n",
    "   \n",
    "\n",
    "\n"
   ]
  },
  {
   "cell_type": "code",
   "execution_count": 14,
   "metadata": {},
   "outputs": [],
   "source": [
    "def levelOrder2(root: Optional[TreeNode]) -> List[List[int]]:\n",
    "    if not root:\n",
    "        return None\n",
    "\n",
    "    result, queue = [], [root]\n",
    "\n",
    "    while queue:\n",
    "        level_values, next_level = [], []\n",
    "\n",
    "        for node in queue:\n",
    "            level_values.append(node.val)\n",
    "            if node.left:\n",
    "                next_level.append(node.left)\n",
    "            if node.right:\n",
    "                next_level.append(node.right)\n",
    "\n",
    "        result.append(level_values)\n",
    "        queue = next_level\n",
    "\n",
    "    return result"
   ]
  },
  {
   "cell_type": "code",
   "execution_count": 15,
   "metadata": {},
   "outputs": [],
   "source": [
    "# BST\n",
    "root = TreeNode(4)\n",
    "root.left = TreeNode(3)\n",
    "root.right = TreeNode(8)\n",
    "root.left.left = TreeNode(1)\n",
    "root.right.left = TreeNode(5)\n",
    "root.right.right = TreeNode(9)\n",
    "\n",
    "root2 = TreeNode()"
   ]
  },
  {
   "cell_type": "code",
   "execution_count": 16,
   "metadata": {},
   "outputs": [],
   "source": [
    "# Function to print the level order traversal\n",
    "def print_level_order(tree):\n",
    "    result = levelOrder(tree)\n",
    "    if result is not None:\n",
    "        print(\"Level Order Traversal:\")\n",
    "        lst = []\n",
    "        for level in result:\n",
    "            lst.append(level)\n",
    "        print(lst)\n",
    "    else:\n",
    "        print(\"Tree is empty\")\n",
    "\n"
   ]
  },
  {
   "cell_type": "code",
   "execution_count": 17,
   "metadata": {},
   "outputs": [
    {
     "name": "stdout",
     "output_type": "stream",
     "text": [
      "Test Case 1:\n",
      "Level Order Traversal:\n",
      "[[4], [3, 8], [1, 5, 9]]\n",
      "\n",
      "Test Case 2:\n",
      "Level Order Traversal:\n",
      "[[3], [9, 20], [15, 7]]\n",
      "\n",
      "Test Case 3:\n",
      "Tree is empty\n",
      "\n",
      "Test Case 4 (Single node tree):\n",
      "Level Order Traversal:\n",
      "[[5]]\n",
      "\n",
      "Test Case 5 (Left-skewed tree):\n",
      "Level Order Traversal:\n",
      "[[1], [2], [3], [4]]\n",
      "\n",
      "Test Case 6 (Right-skewed tree):\n",
      "Level Order Traversal:\n",
      "[[1], [2], [3], [4]]\n",
      "\n",
      "Test Case 7 (Complete binary tree with depth 3):\n",
      "Level Order Traversal:\n",
      "[[1], [2, 3], [4, 5, 6, 7]]\n"
     ]
    }
   ],
   "source": [
    "tree1 = TreeNode(3)\n",
    "tree1.left = TreeNode(9)\n",
    "tree1.right = TreeNode(20)\n",
    "tree1.right.left = TreeNode(15)\n",
    "tree1.right.right = TreeNode(7)\n",
    "\n",
    "tree2 = None  # Empty tree\n",
    "\n",
    "# Edge case: Single node tree\n",
    "tree3 = TreeNode(5)\n",
    "\n",
    "# Edge case: Left-skewed tree\n",
    "tree4 = TreeNode(1)\n",
    "tree4.left = TreeNode(2)\n",
    "tree4.left.left = TreeNode(3)\n",
    "tree4.left.left.left = TreeNode(4)\n",
    "\n",
    "# Edge case: Right-skewed tree\n",
    "tree5 = TreeNode(1)\n",
    "tree5.right = TreeNode(2)\n",
    "tree5.right.right = TreeNode(3)\n",
    "tree5.right.right.right = TreeNode(4)\n",
    "\n",
    "# Edge case: Complete binary tree with depth 3\n",
    "tree6 = TreeNode(1)\n",
    "tree6.left = TreeNode(2)\n",
    "tree6.right = TreeNode(3)\n",
    "tree6.left.left = TreeNode(4)\n",
    "tree6.left.right = TreeNode(5)\n",
    "tree6.right.left = TreeNode(6)\n",
    "tree6.right.right = TreeNode(7)\n",
    "\n",
    "\n",
    "# Test cases\n",
    "print(\"Test Case 1:\")\n",
    "print_level_order(root)\n",
    "print()\n",
    "\n",
    "print(\"Test Case 2:\")\n",
    "print_level_order(tree1)\n",
    "print()\n",
    "\n",
    "print(\"Test Case 3:\")\n",
    "print_level_order(tree2)\n",
    "print()\n",
    "\n",
    "print(\"Test Case 4 (Single node tree):\")\n",
    "print_level_order(tree3)\n",
    "print()\n",
    "\n",
    "print(\"Test Case 5 (Left-skewed tree):\")\n",
    "print_level_order(tree4)\n",
    "print()\n",
    "\n",
    "print(\"Test Case 6 (Right-skewed tree):\")\n",
    "print_level_order(tree5)\n",
    "print()\n",
    "\n",
    "print(\"Test Case 7 (Complete binary tree with depth 3):\")\n",
    "print_level_order(tree6)"
   ]
  },
  {
   "cell_type": "code",
   "execution_count": 18,
   "metadata": {},
   "outputs": [
    {
     "name": "stdout",
     "output_type": "stream",
     "text": [
      "[NbConvertApp] Converting notebook hw10.ipynb to script\n",
      "[NbConvertApp] Writing 3600 bytes to hw10.py\n"
     ]
    }
   ],
   "source": [
    "!jupyter nbconvert --to script hw10.ipynb"
   ]
  }
 ],
 "metadata": {
  "kernelspec": {
   "display_name": "Python 3",
   "language": "python",
   "name": "python3"
  },
  "language_info": {
   "codemirror_mode": {
    "name": "ipython",
    "version": 3
   },
   "file_extension": ".py",
   "mimetype": "text/x-python",
   "name": "python",
   "nbconvert_exporter": "python",
   "pygments_lexer": "ipython3",
   "version": "3.9.6"
  }
 },
 "nbformat": 4,
 "nbformat_minor": 2
}
