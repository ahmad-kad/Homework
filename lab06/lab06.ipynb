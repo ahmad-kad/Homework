{
 "cells": [
  {
   "cell_type": "code",
   "execution_count": 51,
   "metadata": {},
   "outputs": [],
   "source": [
    "def canFinish(numCourses, prerequisites):\n",
    "    indegree = {node: 0 for node in range(numCourses)}\n",
    "\n",
    "    graph = {i: [] for i in range(numCourses)}\n",
    "    for course, prereq in prerequisites:\n",
    "        graph[course].append(prereq)\n",
    "        indegree[prereq] += 1\n",
    "\n",
    "    queue = [course for course in indegree if indegree[course] == 0]\n",
    "    completed = 0\n",
    "\n",
    "    #print(f\"Indegree: {indegree}\")\n",
    "    #print(f\"Graph: {graph}\")\n",
    "\n",
    "    while queue:\n",
    "        current_course = queue.pop(0)\n",
    "        completed += 1\n",
    "\n",
    "        for neighbor in graph[current_course]:\n",
    "            indegree[neighbor] -= 1\n",
    "            if indegree[neighbor] == 0:\n",
    "                queue.append(neighbor)\n",
    "\n",
    "    #print(f\"Completed courses: {completed}\")\n",
    "\n",
    "    return completed == numCourses\n"
   ]
  },
  {
   "cell_type": "code",
   "execution_count": 52,
   "metadata": {},
   "outputs": [
    {
     "name": "stdout",
     "output_type": "stream",
     "text": [
      "Indegree: {0: 1, 1: 0}\n",
      "Graph: {0: [], 1: [0]}\n",
      "Completed courses: 2\n"
     ]
    },
    {
     "data": {
      "text/plain": [
       "True"
      ]
     },
     "execution_count": 52,
     "metadata": {},
     "output_type": "execute_result"
    }
   ],
   "source": [
    "numCourses = 2\n",
    "prerequisites = [[1,0]]\n",
    "\n",
    "canFinish(numCourses, prerequisites)"
   ]
  }
 ],
 "metadata": {
  "kernelspec": {
   "display_name": "base",
   "language": "python",
   "name": "python3"
  },
  "language_info": {
   "codemirror_mode": {
    "name": "ipython",
    "version": 3
   },
   "file_extension": ".py",
   "mimetype": "text/x-python",
   "name": "python",
   "nbconvert_exporter": "python",
   "pygments_lexer": "ipython3",
   "version": "3.11.5"
  }
 },
 "nbformat": 4,
 "nbformat_minor": 2
}
