{
 "cells": [
  {
   "cell_type": "code",
   "execution_count": 48,
   "metadata": {},
   "outputs": [],
   "source": [
    "def canFinish(numCourses, prerequisites):\n",
    "    indegree = {node: 0 for node in range(numCourses)}\n",
    "\n",
    "    graph = {i: [] for i in range(numCourses)}\n",
    "    for course, prereq in prerequisites:\n",
    "        graph[course].append(prereq)\n",
    "        indegree[prereq] += 1\n",
    "\n",
    "    queue = [course for course in indegree if indegree[course] == 0]\n",
    "    completed = 0\n",
    "\n",
    "    print(f\"Indegree: {indegree}\")\n",
    "    print(f\"Graph: {graph}\")\n",
    "\n",
    "    while queue:\n",
    "        current_course = queue.pop(0)\n",
    "        completed += 1\n",
    "\n",
    "        for neighbor in graph[current_course]:\n",
    "            indegree[neighbor] -= 1\n",
    "            if indegree[neighbor] == 0:\n",
    "                queue.append(neighbor)\n",
    "\n",
    "    print(f\"Completed courses: {completed}\")\n",
    "\n",
    "    return completed == numCourses\n"
   ]
  },
  {
   "cell_type": "code",
   "execution_count": 49,
   "metadata": {},
   "outputs": [
    {
     "name": "stdout",
     "output_type": "stream",
     "text": [
      "Indegree: {0: 1, 1: 0}\n",
      "Graph: {0: [], 1: [0]}\n",
      "Completed courses: 2\n"
     ]
    },
    {
     "data": {
      "text/plain": [
       "True"
      ]
     },
     "execution_count": 49,
     "metadata": {},
     "output_type": "execute_result"
    }
   ],
   "source": [
    "numCourses = 2\n",
    "prerequisites = [[1,0]]\n",
    "\n",
    "canFinish(numCourses, prerequisites)"
   ]
  },
  {
   "cell_type": "code",
   "execution_count": 50,
   "metadata": {},
   "outputs": [
    {
     "name": "stdout",
     "output_type": "stream",
     "text": [
      "Indegree: {0: 0, 1: 1, 2: 1, 3: 1}\n",
      "Graph: {0: [1], 1: [2], 2: [3], 3: []}\n",
      "Completed courses: 4\n",
      "Test case 1: Passed\n",
      "Indegree: {0: 0, 1: 1, 2: 2, 3: 1, 4: 1}\n",
      "Graph: {0: [1, 3], 1: [2], 2: [], 3: [4], 4: [2]}\n",
      "Completed courses: 5\n",
      "Test case 2: Passed\n",
      "Indegree: {0: 0, 1: 2, 2: 2, 3: 1}\n",
      "Graph: {0: [1, 1], 1: [2, 2], 2: [3], 3: []}\n",
      "Completed courses: 4\n",
      "Test case 3: Passed\n"
     ]
    },
    {
     "ename": "ValueError",
     "evalue": "not enough values to unpack (expected 2, got 1)",
     "output_type": "error",
     "traceback": [
      "\u001b[0;31m---------------------------------------------------------------------------\u001b[0m",
      "\u001b[0;31mValueError\u001b[0m                                Traceback (most recent call last)",
      "\u001b[1;32m/Users/ahmadkaddoura/Documents/Homework/lab06/lab06.ipynb Cell 3\u001b[0m line \u001b[0;36m3\n\u001b[1;32m     <a href='vscode-notebook-cell:/Users/ahmadkaddoura/Documents/Homework/lab06/lab06.ipynb#W2sZmlsZQ%3D%3D?line=31'>32</a>\u001b[0m \u001b[39mfor\u001b[39;00m i, (prerequisites, expected) \u001b[39min\u001b[39;00m \u001b[39menumerate\u001b[39m(all_test_cases):\n\u001b[1;32m     <a href='vscode-notebook-cell:/Users/ahmadkaddoura/Documents/Homework/lab06/lab06.ipynb#W2sZmlsZQ%3D%3D?line=32'>33</a>\u001b[0m     \u001b[39m# Check if prerequisites contain single or multiple prerequisites\u001b[39;00m\n\u001b[1;32m     <a href='vscode-notebook-cell:/Users/ahmadkaddoura/Documents/Homework/lab06/lab06.ipynb#W2sZmlsZQ%3D%3D?line=33'>34</a>\u001b[0m     \u001b[39mif\u001b[39;00m \u001b[39mall\u001b[39m(\u001b[39misinstance\u001b[39m(pair, \u001b[39mlist\u001b[39m) \u001b[39mfor\u001b[39;00m pair \u001b[39min\u001b[39;00m prerequisites):\n\u001b[0;32m---> <a href='vscode-notebook-cell:/Users/ahmadkaddoura/Documents/Homework/lab06/lab06.ipynb#W2sZmlsZQ%3D%3D?line=34'>35</a>\u001b[0m         result \u001b[39m=\u001b[39m canFinish(\u001b[39mmax\u001b[39m(\u001b[39mmax\u001b[39m(pair) \u001b[39mfor\u001b[39;00m pair \u001b[39min\u001b[39;00m prerequisites) \u001b[39m+\u001b[39m \u001b[39m1\u001b[39m, prerequisites)\n\u001b[1;32m     <a href='vscode-notebook-cell:/Users/ahmadkaddoura/Documents/Homework/lab06/lab06.ipynb#W2sZmlsZQ%3D%3D?line=35'>36</a>\u001b[0m     \u001b[39melse\u001b[39;00m:\n\u001b[1;32m     <a href='vscode-notebook-cell:/Users/ahmadkaddoura/Documents/Homework/lab06/lab06.ipynb#W2sZmlsZQ%3D%3D?line=36'>37</a>\u001b[0m         \u001b[39m# If only one prerequisite is specified for each course, convert it to a list of lists\u001b[39;00m\n\u001b[1;32m     <a href='vscode-notebook-cell:/Users/ahmadkaddoura/Documents/Homework/lab06/lab06.ipynb#W2sZmlsZQ%3D%3D?line=37'>38</a>\u001b[0m         prerequisites \u001b[39m=\u001b[39m [[pair] \u001b[39mfor\u001b[39;00m pair \u001b[39min\u001b[39;00m prerequisites]\n",
      "\u001b[1;32m/Users/ahmadkaddoura/Documents/Homework/lab06/lab06.ipynb Cell 3\u001b[0m line \u001b[0;36m5\n\u001b[1;32m      <a href='vscode-notebook-cell:/Users/ahmadkaddoura/Documents/Homework/lab06/lab06.ipynb#W2sZmlsZQ%3D%3D?line=1'>2</a>\u001b[0m indegree \u001b[39m=\u001b[39m {node: \u001b[39m0\u001b[39m \u001b[39mfor\u001b[39;00m node \u001b[39min\u001b[39;00m \u001b[39mrange\u001b[39m(numCourses)}\n\u001b[1;32m      <a href='vscode-notebook-cell:/Users/ahmadkaddoura/Documents/Homework/lab06/lab06.ipynb#W2sZmlsZQ%3D%3D?line=3'>4</a>\u001b[0m graph \u001b[39m=\u001b[39m {i: [] \u001b[39mfor\u001b[39;00m i \u001b[39min\u001b[39;00m \u001b[39mrange\u001b[39m(numCourses)}\n\u001b[0;32m----> <a href='vscode-notebook-cell:/Users/ahmadkaddoura/Documents/Homework/lab06/lab06.ipynb#W2sZmlsZQ%3D%3D?line=4'>5</a>\u001b[0m \u001b[39mfor\u001b[39;00m course, prereq \u001b[39min\u001b[39;00m prerequisites:\n\u001b[1;32m      <a href='vscode-notebook-cell:/Users/ahmadkaddoura/Documents/Homework/lab06/lab06.ipynb#W2sZmlsZQ%3D%3D?line=5'>6</a>\u001b[0m     graph[course]\u001b[39m.\u001b[39mappend(prereq)\n\u001b[1;32m      <a href='vscode-notebook-cell:/Users/ahmadkaddoura/Documents/Homework/lab06/lab06.ipynb#W2sZmlsZQ%3D%3D?line=6'>7</a>\u001b[0m     indegree[prereq] \u001b[39m+\u001b[39m\u001b[39m=\u001b[39m \u001b[39m1\u001b[39m\n",
      "\u001b[0;31mValueError\u001b[0m: not enough values to unpack (expected 2, got 1)"
     ]
    }
   ],
   "source": [
    "\n",
    "\n",
    "test_cases = [\n",
    "    ([[0, 1], [1, 2], [2, 3]], True),\n",
    "    ([[0, 1], [1, 2], [0, 3], [3, 4], [4, 2]], True),\n",
    "    # Add more test cases here...\n",
    "    ([[0, 1], [1, 2], [2, 3], [0, 1], [1, 2]], True)\n",
    "]\n",
    "\n",
    "additional_test_cases = [\n",
    "    # Single course without prerequisites\n",
    "    ([[0]], True),\n",
    "    # Multiple courses without prerequisites\n",
    "    ([[0], [1], [2]], True),\n",
    "    # Single course with self-dependency\n",
    "    ([[0, 0]], False),\n",
    "    # Multiple courses with self-dependency\n",
    "    ([[0, 0], [1, 1], [2, 2]], False),\n",
    "    # Multiple courses with cyclic dependency\n",
    "    ([[0, 1], [1, 2], [2, 0]], False),\n",
    "    # Multiple courses with cyclic dependency and additional independent courses\n",
    "    ([[0, 1], [1, 2], [2, 0], [3], [4]], False),\n",
    "    # Large graph with no cyclic dependency\n",
    "    ([[i, i+1] for i in range(10000)], True),\n",
    "    # Large graph with cyclic dependency\n",
    "    ([[i, (i+1) % 10000] for i in range(10000)], False),\n",
    "]\n",
    "\n",
    "# Concatenate the original test cases with the additional test cases\n",
    "all_test_cases = test_cases + additional_test_cases\n",
    "\n",
    "# Run all test cases\n",
    "# Run all test cases\n",
    "for i, (prerequisites, expected) in enumerate(all_test_cases):\n",
    "    # Check if prerequisites contain single or multiple prerequisites\n",
    "    if all(isinstance(pair, list) for pair in prerequisites):\n",
    "        result = canFinish(max(max(pair) for pair in prerequisites) + 1, prerequisites)\n",
    "    else:\n",
    "        # If only one prerequisite is specified for each course, convert it to a list of lists\n",
    "        prerequisites = [[pair] for pair in prerequisites]\n",
    "        result = canFinish(max(max(pair) for pair in prerequisites) + 1, prerequisites)\n",
    "    \n",
    "    if result == expected:\n",
    "        print(f\"Test case {i+1}: Passed\")\n",
    "    else:\n",
    "        print(f\"Test case {i+1}: Failed\")\n"
   ]
  },
  {
   "cell_type": "code",
   "execution_count": null,
   "metadata": {},
   "outputs": [
    {
     "name": "stdout",
     "output_type": "stream",
     "text": [
      "Indegree: {0: 0, 1: 1, 2: 1, 3: 0, 4: 1, 5: 1}\n",
      "Graph: {0: [1], 1: [2], 2: [], 3: [4], 4: [5], 5: []}\n",
      "Completed courses: 6\n",
      "True\n"
     ]
    }
   ],
   "source": [
    "print(canFinish(6, [[0, 1], [1, 2], [3, 4], [4, 5]]))\n"
   ]
  },
  {
   "cell_type": "code",
   "execution_count": null,
   "metadata": {},
   "outputs": [],
   "source": []
  }
 ],
 "metadata": {
  "kernelspec": {
   "display_name": "base",
   "language": "python",
   "name": "python3"
  },
  "language_info": {
   "codemirror_mode": {
    "name": "ipython",
    "version": 3
   },
   "file_extension": ".py",
   "mimetype": "text/x-python",
   "name": "python",
   "nbconvert_exporter": "python",
   "pygments_lexer": "ipython3",
   "version": "3.11.5"
  }
 },
 "nbformat": 4,
 "nbformat_minor": 2
}
